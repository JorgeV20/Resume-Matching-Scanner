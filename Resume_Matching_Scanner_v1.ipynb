{
 "cells": [
  {
   "cell_type": "markdown",
   "id": "0dc33a45",
   "metadata": {},
   "source": [
    "## Resume Matching Scanner"
   ]
  },
  {
   "cell_type": "markdown",
   "id": "f2b0dac1",
   "metadata": {},
   "source": [
    "##### The goal of this project is to help job seekers to verify if their resume is matching with the job description they are interested"
   ]
  },
  {
   "cell_type": "code",
   "execution_count": 1,
   "id": "42c40e20",
   "metadata": {},
   "outputs": [
    {
     "name": "stderr",
     "output_type": "stream",
     "text": [
      "2023-06-04 17:41:58.154983: I tensorflow/core/platform/cpu_feature_guard.cc:193] This TensorFlow binary is optimized with oneAPI Deep Neural Network Library (oneDNN) to use the following CPU instructions in performance-critical operations:  AVX2 FMA\n",
      "To enable them in other operations, rebuild TensorFlow with the appropriate compiler flags.\n",
      "2023-06-04 17:41:58.280357: W tensorflow/compiler/xla/stream_executor/platform/default/dso_loader.cc:64] Could not load dynamic library 'libcudart.so.11.0'; dlerror: libcudart.so.11.0: cannot open shared object file: No such file or directory\n",
      "2023-06-04 17:41:58.280384: I tensorflow/compiler/xla/stream_executor/cuda/cudart_stub.cc:29] Ignore above cudart dlerror if you do not have a GPU set up on your machine.\n",
      "2023-06-04 17:41:58.868646: W tensorflow/compiler/xla/stream_executor/platform/default/dso_loader.cc:64] Could not load dynamic library 'libnvinfer.so.7'; dlerror: libnvinfer.so.7: cannot open shared object file: No such file or directory\n",
      "2023-06-04 17:41:58.868721: W tensorflow/compiler/xla/stream_executor/platform/default/dso_loader.cc:64] Could not load dynamic library 'libnvinfer_plugin.so.7'; dlerror: libnvinfer_plugin.so.7: cannot open shared object file: No such file or directory\n",
      "2023-06-04 17:41:58.868730: W tensorflow/compiler/tf2tensorrt/utils/py_utils.cc:38] TF-TRT Warning: Cannot dlopen some TensorRT libraries. If you would like to use Nvidia GPU with TensorRT, please make sure the missing libraries mentioned above are installed properly.\n"
     ]
    }
   ],
   "source": [
    "import PyPDF2\n",
    "import textract\n",
    "import re\n",
    "import string\n",
    "import pandas as pd\n",
    "import matplotlib.pyplot as plt\n",
    "%matplotlib inline\n",
    "\n",
    "import spacy\n",
    "from collections import Counter\n",
    "from sklearn.metrics.pairwise import cosine_similarity\n",
    "\n",
    "from sklearn.feature_extraction.text import TfidfVectorizer\n",
    "\n",
    "\n",
    "from nltk.tokenize import word_tokenize \n",
    "from nltk.corpus import stopwords\n",
    "from wordcloud import WordCloud\n",
    "from nltk.probability import FreqDist\n",
    "import operator"
   ]
  },
  {
   "cell_type": "code",
   "execution_count": 2,
   "id": "85c3a969",
   "metadata": {},
   "outputs": [
    {
     "data": {
      "text/plain": [
       "{'a',\n",
       " 'about',\n",
       " 'above',\n",
       " 'after',\n",
       " 'again',\n",
       " 'against',\n",
       " 'ain',\n",
       " 'all',\n",
       " 'am',\n",
       " 'an',\n",
       " 'and',\n",
       " 'any',\n",
       " 'are',\n",
       " 'aren',\n",
       " \"aren't\",\n",
       " 'as',\n",
       " 'at',\n",
       " 'be',\n",
       " 'because',\n",
       " 'been',\n",
       " 'before',\n",
       " 'being',\n",
       " 'below',\n",
       " 'between',\n",
       " 'both',\n",
       " 'but',\n",
       " 'by',\n",
       " 'can',\n",
       " 'couldn',\n",
       " \"couldn't\",\n",
       " 'd',\n",
       " 'did',\n",
       " 'didn',\n",
       " \"didn't\",\n",
       " 'do',\n",
       " 'does',\n",
       " 'doesn',\n",
       " \"doesn't\",\n",
       " 'doing',\n",
       " 'don',\n",
       " \"don't\",\n",
       " 'down',\n",
       " 'during',\n",
       " 'each',\n",
       " 'few',\n",
       " 'for',\n",
       " 'from',\n",
       " 'further',\n",
       " 'had',\n",
       " 'hadn',\n",
       " \"hadn't\",\n",
       " 'has',\n",
       " 'hasn',\n",
       " \"hasn't\",\n",
       " 'have',\n",
       " 'haven',\n",
       " \"haven't\",\n",
       " 'having',\n",
       " 'he',\n",
       " 'her',\n",
       " 'here',\n",
       " 'hers',\n",
       " 'herself',\n",
       " 'him',\n",
       " 'himself',\n",
       " 'his',\n",
       " 'how',\n",
       " 'i',\n",
       " 'if',\n",
       " 'in',\n",
       " 'into',\n",
       " 'is',\n",
       " 'isn',\n",
       " \"isn't\",\n",
       " 'it',\n",
       " \"it's\",\n",
       " 'its',\n",
       " 'itself',\n",
       " 'just',\n",
       " 'll',\n",
       " 'm',\n",
       " 'ma',\n",
       " 'me',\n",
       " 'mightn',\n",
       " \"mightn't\",\n",
       " 'more',\n",
       " 'most',\n",
       " 'mustn',\n",
       " \"mustn't\",\n",
       " 'my',\n",
       " 'myself',\n",
       " 'needn',\n",
       " \"needn't\",\n",
       " 'no',\n",
       " 'nor',\n",
       " 'not',\n",
       " 'now',\n",
       " 'o',\n",
       " 'of',\n",
       " 'off',\n",
       " 'on',\n",
       " 'once',\n",
       " 'only',\n",
       " 'or',\n",
       " 'other',\n",
       " 'our',\n",
       " 'ours',\n",
       " 'ourselves',\n",
       " 'out',\n",
       " 'over',\n",
       " 'own',\n",
       " 're',\n",
       " 's',\n",
       " 'same',\n",
       " 'shan',\n",
       " \"shan't\",\n",
       " 'she',\n",
       " \"she's\",\n",
       " 'should',\n",
       " \"should've\",\n",
       " 'shouldn',\n",
       " \"shouldn't\",\n",
       " 'so',\n",
       " 'some',\n",
       " 'such',\n",
       " 't',\n",
       " 'than',\n",
       " 'that',\n",
       " \"that'll\",\n",
       " 'the',\n",
       " 'their',\n",
       " 'theirs',\n",
       " 'them',\n",
       " 'themselves',\n",
       " 'then',\n",
       " 'there',\n",
       " 'these',\n",
       " 'they',\n",
       " 'this',\n",
       " 'those',\n",
       " 'through',\n",
       " 'to',\n",
       " 'too',\n",
       " 'under',\n",
       " 'until',\n",
       " 'up',\n",
       " 've',\n",
       " 'very',\n",
       " 'was',\n",
       " 'wasn',\n",
       " \"wasn't\",\n",
       " 'we',\n",
       " 'were',\n",
       " 'weren',\n",
       " \"weren't\",\n",
       " 'what',\n",
       " 'when',\n",
       " 'where',\n",
       " 'which',\n",
       " 'while',\n",
       " 'who',\n",
       " 'whom',\n",
       " 'why',\n",
       " 'will',\n",
       " 'with',\n",
       " 'won',\n",
       " \"won't\",\n",
       " 'wouldn',\n",
       " \"wouldn't\",\n",
       " 'y',\n",
       " 'you',\n",
       " \"you'd\",\n",
       " \"you'll\",\n",
       " \"you're\",\n",
       " \"you've\",\n",
       " 'your',\n",
       " 'yours',\n",
       " 'yourself',\n",
       " 'yourselves'}"
      ]
     },
     "execution_count": 2,
     "metadata": {},
     "output_type": "execute_result"
    }
   ],
   "source": [
    "set(stopwords.words('english'))"
   ]
  },
  {
   "cell_type": "markdown",
   "id": "eacee4ef",
   "metadata": {},
   "source": [
    "### Getting information from the CV"
   ]
  },
  {
   "cell_type": "code",
   "execution_count": 5,
   "id": "b01902f4",
   "metadata": {},
   "outputs": [],
   "source": [
    "def get_info_cv(cv_path):\n",
    "    pdf_file = open(cv_path,'rb')\n",
    "    pdf_reader = PyPDF2.PdfReader(pdf_file)\n",
    "    num_pages = len(pdf_reader.pages)\n",
    "    print('The number of pages in the CV are: ',num_pages)\n",
    "    \n",
    "    count = 0\n",
    "    text = \"\"\n",
    "\n",
    "    while count < num_pages:\n",
    "        pageObj = pdf_reader.pages[count]\n",
    "        count +=1\n",
    "        text += pageObj.extract_text()\n",
    "    \n",
    "    return text"
   ]
  },
  {
   "cell_type": "code",
   "execution_count": 9,
   "id": "9553861c",
   "metadata": {},
   "outputs": [
    {
     "name": "stdout",
     "output_type": "stream",
     "text": [
      "The number of pages in the CV are:  1\n"
     ]
    }
   ],
   "source": [
    "cv=get_info_cv('apple-nlp-engineer-resume-example.pdf')"
   ]
  },
  {
   "cell_type": "code",
   "execution_count": 10,
   "id": "d5a89d4b",
   "metadata": {
    "scrolled": true
   },
   "outputs": [
    {
     "name": "stdout",
     "output_type": "stream",
     "text": [
      "Twila Goldston\n",
      "NLP Engineer\n",
      "As an experienced Natural Language Processing (NLP) Engineer with over 3 years of hands-on experience, I have \n",
      "developed strong expertise in the development and deployment of NLP solutions for a variety of industries. My key skills \n",
      "include designing, developing, and deploying NLP models and pipelines, as well as automating complex NLP tasks.\n",
      "I have successfully developed and implemented NLP solutions for a variety of tasks such as entity recognition and \n",
      "extraction, sentiment analysis, information retrieval, text summarization, and machine translation. I have also worked \n",
      "on developing custom NLP pipelines, utilizing deep learning models such as LSTM, Transformer, and BERT. Additionally, \n",
      "I have strong knowledge of various NLP libraries such as Spacy, NL TK, Gensim, and Scikit-learn, as well as programming \n",
      "languages such as Python and Java.\n",
      "Throughout my career, I have been involved in a number of successful projects, such as developing a text summarization \n",
      "system for a news media company, an entity extraction system for a legal services company, and a sentiment analysis \n",
      "system for a customer service provider. I have also collaborated with data scientists, engineers, and product managers \n",
      "to ensure successful project execution.\n",
      "I am confident that my experience and skills will be an asset to any organization.\n",
      "twila.goldston@gmail.com\n",
      "(333) 966-5934\n",
      "Boulder, CO\n",
      "Education\n",
      "Master of Science in Natural \n",
      "Language Processing at \n",
      "University of Colorado \n",
      "Boulder\n",
      "Aug 2016 - May 2020\n",
      "Relevant Coursework: \n",
      "Algorithms for Natural \n",
      "Language Processing, Machine \n",
      "Learning for Natural Language \n",
      "Processing, Deep Learning \n",
      "for Natural Language \n",
      "Processing, Computational \n",
      "Semantics, Natural Language \n",
      "Understanding, and Natural \n",
      "Language Generation.\n",
      "Links\n",
      "linkedin.com/in/twilagoldston\n",
      "Skills\n",
      "Machine Learning\n",
      "Natural Language Processing \n",
      "(NLP)\n",
      "Data Analysis & VisualizationEmployment History\n",
      "Lead NLP Engineer at IBM, CO\n",
      "Jan 2023 - Present\n",
      "•Developed an automated Natural Language Processing (NLP) \n",
      "system for IBM CO, resulting in a 60% reduction in processing time \n",
      "for customer service requests.\n",
      "•Led a team of 5 engineers to create a machine learning model for \n",
      "sentiment analysis, achieving an accuracy of 85%.\n",
      "•Developed a new NLP-based chatbot that increased customer \n",
      "satisfaction by 15%, resulting in a 20% increase in sales.\n",
      "Senior NLP Engineer at Google, CO\n",
      "Aug 2020 - Nov 2022\n",
      "•Developed a neural network-based natural language processing \n",
      "(NLP) system for Google Search that improved user experience by \n",
      "20%, resulting in a 10% increase in traffic to the site.\n",
      "•Spearheaded the development of a conversational AI-based \n",
      "chatbot for Google Home that decreased customer service inquiries \n",
      "by 25%.\n",
      "•Implemented an end-to-end NLP pipeline for Google Ads that \n",
      "increased its accuracy by 30%, resulting in 5% increase in ad \n",
      "revenue.\n",
      "Certificates\n",
      "Natural Language Processing Professional Certificate\n",
      "Apr 2021\n",
      "IBM Watson Natural Language Understanding Certification\n",
      "Jun 2019\n",
      "Memberships\n",
      "Association for Computational Linguistics (ACL)\n",
      "Natural Language Processing Special Interest Group (NLP-SIG)\n"
     ]
    }
   ],
   "source": [
    "print(cv)"
   ]
  },
  {
   "cell_type": "markdown",
   "id": "f144e98d",
   "metadata": {},
   "source": [
    "### Getting information from the Job Offer"
   ]
  },
  {
   "cell_type": "code",
   "execution_count": 11,
   "id": "bb5c52bf",
   "metadata": {},
   "outputs": [],
   "source": [
    "f = open(\"nlp_engineer_job_description.txt\", \"r\")\n",
    "offer=f.read()"
   ]
  },
  {
   "cell_type": "code",
   "execution_count": 12,
   "id": "0c890531",
   "metadata": {},
   "outputs": [
    {
     "name": "stdout",
     "output_type": "stream",
     "text": [
      "Job brief\n",
      "\n",
      "We are looking for a Natural Language Processing Engineer to help us improve our NLP products and create new NLP applications.\n",
      "\n",
      "NLP Engineer responsibilities include transforming natural language data into useful features using NLP techniques to feed classification algorithms. To succeed in this role, you should possess outstanding skills in statistical analysis, machine learning methods and text representation techniques.\n",
      "\n",
      "Your ultimate goal is to develop efficient self-learning NLP applications.\n",
      "Responsibilities\n",
      "\n",
      "    Study and transform data science prototypes\n",
      "    Design NLP applications\n",
      "    Select appropriate annotated datasets for Supervised Learning methods\n",
      "    Use effective text representations to transform natural language into useful features\n",
      "    Find and implement the right algorithms and tools for NLP tasks\n",
      "    Develop NLP systems according to requirements\n",
      "    Train the developed model and run evaluation experiments\n",
      "    Perform statistical analysis of results and refine models\n",
      "    Extend ML libraries and frameworks to apply in NLP tasks\n",
      "    Remain updated in the rapidly changing field of machine learning\n",
      "\n",
      "Requirements and skills\n",
      "\n",
      "    Proven experience as an NLP Engineer or similar role\n",
      "    Understanding of NLP techniques for text representation, semantic extraction techniques, data structures and modeling\n",
      "    Ability to effectively design software architecture\n",
      "    Deep understanding of text representation techniques (such as n-grams, bag of words, sentiment analysis etc), statistics and classification algorithms\n",
      "    Knowledge of Python, Java and R\n",
      "    Ability to write robust and testable code\n",
      "    Experience with machine learning frameworks (like Keras or PyTorch) and libraries (like scikit-learn)\n",
      "    Strong communication skills\n",
      "    An analytical mind with problem-solving abilities\n",
      "    Degree in Computer Science, Mathematics, Computational Linguistics or similar field\n",
      "\n"
     ]
    }
   ],
   "source": [
    "print(offer)"
   ]
  },
  {
   "cell_type": "markdown",
   "id": "9d073873",
   "metadata": {},
   "source": [
    "### Cleaning each document"
   ]
  },
  {
   "cell_type": "code",
   "execution_count": 13,
   "id": "24fc76b2",
   "metadata": {},
   "outputs": [],
   "source": [
    "def clean_text(text):\n",
    "    text = text.replace('\\n', ' ')\n",
    "    text = text.replace(',', ' ')\n",
    "    text = text.replace('...', ' ')\n",
    "    text = text.replace('|', ' ')\n",
    "    return text"
   ]
  },
  {
   "cell_type": "code",
   "execution_count": 14,
   "id": "d6153007",
   "metadata": {},
   "outputs": [],
   "source": [
    "cv_cleaned=clean_text(cv)\n",
    "offer_cleaned=clean_text(offer)"
   ]
  },
  {
   "cell_type": "code",
   "execution_count": 15,
   "id": "49ac6d28",
   "metadata": {},
   "outputs": [
    {
     "data": {
      "text/plain": [
       "'Twila Goldston NLP Engineer As an experienced Natural Language Processing (NLP) Engineer with over 3 years of hands-on experience  I have  developed strong expertise in the development and deployment of NLP solutions for a variety of industries. My key skills  include designing  developing  and deploying NLP models and pipelines  as well as automating complex NLP tasks. I have successfully developed and implemented NLP solutions for a variety of tasks such as entity recognition and  extraction  sentiment analysis  information retrieval  text summarization  and machine translation. I have also worked  on developing custom NLP pipelines  utilizing deep learning models such as LSTM  Transformer  and BERT. Additionally   I have strong knowledge of various NLP libraries such as Spacy  NL TK  Gensim  and Scikit-learn  as well as programming  languages such as Python and Java. Throughout my career  I have been involved in a number of successful projects  such as developing a text summarization  system for a news media company  an entity extraction system for a legal services company  and a sentiment analysis  system for a customer service provider. I have also collaborated with data scientists  engineers  and product managers  to ensure successful project execution. I am confident that my experience and skills will be an asset to any organization. twila.goldston@gmail.com (333) 966-5934 Boulder  CO Education Master of Science in Natural  Language Processing at  University of Colorado  Boulder Aug 2016 - May 2020 Relevant Coursework:  Algorithms for Natural  Language Processing  Machine  Learning for Natural Language  Processing  Deep Learning  for Natural Language  Processing  Computational  Semantics  Natural Language  Understanding  and Natural  Language Generation. Links linkedin.com/in/twilagoldston Skills Machine Learning Natural Language Processing  (NLP) Data Analysis & VisualizationEmployment History Lead NLP Engineer at IBM  CO Jan 2023 - Present •Developed an automated Natural Language Processing (NLP)  system for IBM CO  resulting in a 60% reduction in processing time  for customer service requests. •Led a team of 5 engineers to create a machine learning model for  sentiment analysis  achieving an accuracy of 85%. •Developed a new NLP-based chatbot that increased customer  satisfaction by 15%  resulting in a 20% increase in sales. Senior NLP Engineer at Google  CO Aug 2020 - Nov 2022 •Developed a neural network-based natural language processing  (NLP) system for Google Search that improved user experience by  20%  resulting in a 10% increase in traffic to the site. •Spearheaded the development of a conversational AI-based  chatbot for Google Home that decreased customer service inquiries  by 25%. •Implemented an end-to-end NLP pipeline for Google Ads that  increased its accuracy by 30%  resulting in 5% increase in ad  revenue. Certificates Natural Language Processing Professional Certificate Apr 2021 IBM Watson Natural Language Understanding Certification Jun 2019 Memberships Association for Computational Linguistics (ACL) Natural Language Processing Special Interest Group (NLP-SIG)'"
      ]
     },
     "execution_count": 15,
     "metadata": {},
     "output_type": "execute_result"
    }
   ],
   "source": [
    "cv_cleaned"
   ]
  },
  {
   "cell_type": "code",
   "execution_count": 16,
   "id": "736ae060",
   "metadata": {},
   "outputs": [
    {
     "data": {
      "text/plain": [
       "'Job brief  We are looking for a Natural Language Processing Engineer to help us improve our NLP products and create new NLP applications.  NLP Engineer responsibilities include transforming natural language data into useful features using NLP techniques to feed classification algorithms. To succeed in this role  you should possess outstanding skills in statistical analysis  machine learning methods and text representation techniques.  Your ultimate goal is to develop efficient self-learning NLP applications. Responsibilities      Study and transform data science prototypes     Design NLP applications     Select appropriate annotated datasets for Supervised Learning methods     Use effective text representations to transform natural language into useful features     Find and implement the right algorithms and tools for NLP tasks     Develop NLP systems according to requirements     Train the developed model and run evaluation experiments     Perform statistical analysis of results and refine models     Extend ML libraries and frameworks to apply in NLP tasks     Remain updated in the rapidly changing field of machine learning  Requirements and skills      Proven experience as an NLP Engineer or similar role     Understanding of NLP techniques for text representation  semantic extraction techniques  data structures and modeling     Ability to effectively design software architecture     Deep understanding of text representation techniques (such as n-grams  bag of words  sentiment analysis etc)  statistics and classification algorithms     Knowledge of Python  Java and R     Ability to write robust and testable code     Experience with machine learning frameworks (like Keras or PyTorch) and libraries (like scikit-learn)     Strong communication skills     An analytical mind with problem-solving abilities     Degree in Computer Science  Mathematics  Computational Linguistics or similar field '"
      ]
     },
     "execution_count": 16,
     "metadata": {},
     "output_type": "execute_result"
    }
   ],
   "source": [
    "offer_cleaned"
   ]
  },
  {
   "cell_type": "markdown",
   "id": "a9448bbd",
   "metadata": {},
   "source": [
    "### Vectorizing each document"
   ]
  },
  {
   "cell_type": "markdown",
   "id": "7118d225",
   "metadata": {},
   "source": [
    "##### Here we are creating our TF-IDF vectorizer and then obtaining a vocabulary based in the job description"
   ]
  },
  {
   "cell_type": "code",
   "execution_count": 17,
   "id": "4b364452",
   "metadata": {},
   "outputs": [
    {
     "data": {
      "text/html": [
       "<style>#sk-container-id-1 {color: black;background-color: white;}#sk-container-id-1 pre{padding: 0;}#sk-container-id-1 div.sk-toggleable {background-color: white;}#sk-container-id-1 label.sk-toggleable__label {cursor: pointer;display: block;width: 100%;margin-bottom: 0;padding: 0.3em;box-sizing: border-box;text-align: center;}#sk-container-id-1 label.sk-toggleable__label-arrow:before {content: \"▸\";float: left;margin-right: 0.25em;color: #696969;}#sk-container-id-1 label.sk-toggleable__label-arrow:hover:before {color: black;}#sk-container-id-1 div.sk-estimator:hover label.sk-toggleable__label-arrow:before {color: black;}#sk-container-id-1 div.sk-toggleable__content {max-height: 0;max-width: 0;overflow: hidden;text-align: left;background-color: #f0f8ff;}#sk-container-id-1 div.sk-toggleable__content pre {margin: 0.2em;color: black;border-radius: 0.25em;background-color: #f0f8ff;}#sk-container-id-1 input.sk-toggleable__control:checked~div.sk-toggleable__content {max-height: 200px;max-width: 100%;overflow: auto;}#sk-container-id-1 input.sk-toggleable__control:checked~label.sk-toggleable__label-arrow:before {content: \"▾\";}#sk-container-id-1 div.sk-estimator input.sk-toggleable__control:checked~label.sk-toggleable__label {background-color: #d4ebff;}#sk-container-id-1 div.sk-label input.sk-toggleable__control:checked~label.sk-toggleable__label {background-color: #d4ebff;}#sk-container-id-1 input.sk-hidden--visually {border: 0;clip: rect(1px 1px 1px 1px);clip: rect(1px, 1px, 1px, 1px);height: 1px;margin: -1px;overflow: hidden;padding: 0;position: absolute;width: 1px;}#sk-container-id-1 div.sk-estimator {font-family: monospace;background-color: #f0f8ff;border: 1px dotted black;border-radius: 0.25em;box-sizing: border-box;margin-bottom: 0.5em;}#sk-container-id-1 div.sk-estimator:hover {background-color: #d4ebff;}#sk-container-id-1 div.sk-parallel-item::after {content: \"\";width: 100%;border-bottom: 1px solid gray;flex-grow: 1;}#sk-container-id-1 div.sk-label:hover label.sk-toggleable__label {background-color: #d4ebff;}#sk-container-id-1 div.sk-serial::before {content: \"\";position: absolute;border-left: 1px solid gray;box-sizing: border-box;top: 0;bottom: 0;left: 50%;z-index: 0;}#sk-container-id-1 div.sk-serial {display: flex;flex-direction: column;align-items: center;background-color: white;padding-right: 0.2em;padding-left: 0.2em;position: relative;}#sk-container-id-1 div.sk-item {position: relative;z-index: 1;}#sk-container-id-1 div.sk-parallel {display: flex;align-items: stretch;justify-content: center;background-color: white;position: relative;}#sk-container-id-1 div.sk-item::before, #sk-container-id-1 div.sk-parallel-item::before {content: \"\";position: absolute;border-left: 1px solid gray;box-sizing: border-box;top: 0;bottom: 0;left: 50%;z-index: -1;}#sk-container-id-1 div.sk-parallel-item {display: flex;flex-direction: column;z-index: 1;position: relative;background-color: white;}#sk-container-id-1 div.sk-parallel-item:first-child::after {align-self: flex-end;width: 50%;}#sk-container-id-1 div.sk-parallel-item:last-child::after {align-self: flex-start;width: 50%;}#sk-container-id-1 div.sk-parallel-item:only-child::after {width: 0;}#sk-container-id-1 div.sk-dashed-wrapped {border: 1px dashed gray;margin: 0 0.4em 0.5em 0.4em;box-sizing: border-box;padding-bottom: 0.4em;background-color: white;}#sk-container-id-1 div.sk-label label {font-family: monospace;font-weight: bold;display: inline-block;line-height: 1.2em;}#sk-container-id-1 div.sk-label-container {text-align: center;}#sk-container-id-1 div.sk-container {/* jupyter's `normalize.less` sets `[hidden] { display: none; }` but bootstrap.min.css set `[hidden] { display: none !important; }` so we also need the `!important` here to be able to override the default hidden behavior on the sphinx rendered scikit-learn.org. See: https://github.com/scikit-learn/scikit-learn/issues/21755 */display: inline-block !important;position: relative;}#sk-container-id-1 div.sk-text-repr-fallback {display: none;}</style><div id=\"sk-container-id-1\" class=\"sk-top-container\"><div class=\"sk-text-repr-fallback\"><pre>TfidfVectorizer()</pre><b>In a Jupyter environment, please rerun this cell to show the HTML representation or trust the notebook. <br />On GitHub, the HTML representation is unable to render, please try loading this page with nbviewer.org.</b></div><div class=\"sk-container\" hidden><div class=\"sk-item\"><div class=\"sk-estimator sk-toggleable\"><input class=\"sk-toggleable__control sk-hidden--visually\" id=\"sk-estimator-id-1\" type=\"checkbox\" checked><label for=\"sk-estimator-id-1\" class=\"sk-toggleable__label sk-toggleable__label-arrow\">TfidfVectorizer</label><div class=\"sk-toggleable__content\"><pre>TfidfVectorizer()</pre></div></div></div></div></div>"
      ],
      "text/plain": [
       "TfidfVectorizer()"
      ]
     },
     "execution_count": 17,
     "metadata": {},
     "output_type": "execute_result"
    }
   ],
   "source": [
    "vectorizer = TfidfVectorizer()\n",
    "vectorizer.fit([offer_cleaned])"
   ]
  },
  {
   "cell_type": "markdown",
   "id": "8b8e0011",
   "metadata": {},
   "source": [
    "#### Vectorization of the job offer"
   ]
  },
  {
   "cell_type": "code",
   "execution_count": 23,
   "id": "54abf3e7",
   "metadata": {},
   "outputs": [],
   "source": [
    "X = vectorizer.transform([offer_cleaned])"
   ]
  },
  {
   "cell_type": "code",
   "execution_count": 24,
   "id": "b8448cf7",
   "metadata": {},
   "outputs": [],
   "source": [
    "Y=vectorizer.transform([cv])"
   ]
  },
  {
   "cell_type": "markdown",
   "id": "4f0a0802",
   "metadata": {},
   "source": [
    "### Cosine Similarity between each document"
   ]
  },
  {
   "cell_type": "code",
   "execution_count": 25,
   "id": "c920b48f",
   "metadata": {},
   "outputs": [],
   "source": [
    "cos=cosine_similarity(X,Y)"
   ]
  },
  {
   "cell_type": "code",
   "execution_count": 31,
   "id": "80c7f851",
   "metadata": {},
   "outputs": [
    {
     "name": "stdout",
     "output_type": "stream",
     "text": [
      "The similarity between the job description and the cv is:  70.66 %\n"
     ]
    }
   ],
   "source": [
    "print('The similarity between the job description and the cv is: ', round(cos[0][0]*100,2),'%')"
   ]
  }
 ],
 "metadata": {
  "kernelspec": {
   "display_name": "Python 3 (ipykernel)",
   "language": "python",
   "name": "python3"
  },
  "language_info": {
   "codemirror_mode": {
    "name": "ipython",
    "version": 3
   },
   "file_extension": ".py",
   "mimetype": "text/x-python",
   "name": "python",
   "nbconvert_exporter": "python",
   "pygments_lexer": "ipython3",
   "version": "3.8.10"
  }
 },
 "nbformat": 4,
 "nbformat_minor": 5
}
